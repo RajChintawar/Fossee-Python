{
 "cells": [
  {
   "cell_type": "code",
   "execution_count": 1,
   "id": "6c1ac48d-7b14-40da-8097-1cd033c31ab2",
   "metadata": {},
   "outputs": [
    {
     "name": "stdout",
     "output_type": "stream",
     "text": [
      "Hello World\n"
     ]
    }
   ],
   "source": [
    "print(\"Hello World\")"
   ]
  },
  {
   "cell_type": "code",
   "execution_count": 3,
   "id": "5355956c-07ac-49a7-a0c6-975ac8036072",
   "metadata": {},
   "outputs": [],
   "source": [
    "def f(x):\n",
    "    return x*x          #Function for printing square of the given number."
   ]
  },
  {
   "cell_type": "code",
   "execution_count": 5,
   "id": "7cf3af41-098e-4e79-8ef3-3b1b3889749b",
   "metadata": {},
   "outputs": [
    {
     "data": {
      "text/plain": [
       "16"
      ]
     },
     "execution_count": 5,
     "metadata": {},
     "output_type": "execute_result"
    }
   ],
   "source": [
    "f(4)\n",
    "\n"
   ]
  },
  {
   "cell_type": "code",
   "execution_count": 7,
   "id": "0d9ca470-935f-441b-95b3-1e1b646a62e8",
   "metadata": {},
   "outputs": [],
   "source": [
    "def mysum(a,b):\n",
    "    return a+b\n",
    "    "
   ]
  },
  {
   "cell_type": "code",
   "execution_count": 9,
   "id": "9f214dbd-81b1-4c37-ac9b-ee86ee14c5ac",
   "metadata": {},
   "outputs": [
    {
     "data": {
      "text/plain": [
       "3"
      ]
     },
     "execution_count": 9,
     "metadata": {},
     "output_type": "execute_result"
    }
   ],
   "source": [
    "mysum(1,2)"
   ]
  },
  {
   "cell_type": "code",
   "execution_count": 11,
   "id": "b7201b54-f869-43db-be3e-46a5e6258657",
   "metadata": {},
   "outputs": [],
   "source": [
    "def sqr(arr):\n",
    "    result = []\n",
    "    for x in arr:\n",
    "        result.append(x*x)\n",
    "    return result"
   ]
  },
  {
   "cell_type": "code",
   "execution_count": 13,
   "id": "31238bec-53d6-4d86-8648-945f2ee496b8",
   "metadata": {},
   "outputs": [],
   "source": [
    "t = range(100)"
   ]
  },
  {
   "cell_type": "code",
   "execution_count": 19,
   "id": "9ad8c972-c4c7-47a2-8453-7d09ee55dc09",
   "metadata": {},
   "outputs": [
    {
     "data": {
      "text/plain": [
       "100"
      ]
     },
     "execution_count": 19,
     "metadata": {},
     "output_type": "execute_result"
    }
   ],
   "source": [
    "len(t)"
   ]
  },
  {
   "cell_type": "code",
   "execution_count": 33,
   "id": "dc2f9452-0bcc-4acb-93cd-391044eea64e",
   "metadata": {},
   "outputs": [],
   "source": [
    "#NUMPY ARRRAY !!!\n",
    "import numpy as np\n",
    "import matplotlib.pyplot as plt\n",
    "import math\n",
    "a = np.array([1, 2, 3, 4])\n",
    "b = np.array([2,3,4,5])"
   ]
  },
  {
   "cell_type": "code",
   "execution_count": 35,
   "id": "307fd7fd-e354-47ed-b57e-66a6af09d2ae",
   "metadata": {},
   "outputs": [
    {
     "name": "stdout",
     "output_type": "stream",
     "text": [
      "1 4\n"
     ]
    }
   ],
   "source": [
    "print(a[0], a[-1])"
   ]
  },
  {
   "cell_type": "code",
   "execution_count": 37,
   "id": "5e3fb4a9-f28d-42d7-a504-ad3f800504bd",
   "metadata": {},
   "outputs": [
    {
     "data": {
      "text/plain": [
       "array([3, 5, 7, 9])"
      ]
     },
     "execution_count": 37,
     "metadata": {},
     "output_type": "execute_result"
    }
   ],
   "source": [
    "a+b"
   ]
  },
  {
   "cell_type": "code",
   "execution_count": 39,
   "id": "9f62e063-5588-4bfe-81c8-87698ff86530",
   "metadata": {},
   "outputs": [
    {
     "data": {
      "text/plain": [
       "array([ 2,  6, 12, 20])"
      ]
     },
     "execution_count": 39,
     "metadata": {},
     "output_type": "execute_result"
    }
   ],
   "source": [
    "a*b"
   ]
  },
  {
   "cell_type": "code",
   "execution_count": 41,
   "id": "0e25d6b1-992f-4574-8fe9-e1cf3adca80b",
   "metadata": {},
   "outputs": [],
   "source": [
    "a = np.array([[0,1,2,3],\n",
    "              [10,11,12,13]]) "
   ]
  },
  {
   "cell_type": "code",
   "execution_count": 43,
   "id": "3d0f03fa-0f6f-4f94-aa11-82670bdfef9b",
   "metadata": {},
   "outputs": [
    {
     "data": {
      "text/plain": [
       "(2, 4)"
      ]
     },
     "execution_count": 43,
     "metadata": {},
     "output_type": "execute_result"
    }
   ],
   "source": [
    "a.shape\n"
   ]
  },
  {
   "cell_type": "code",
   "execution_count": 45,
   "id": "497653b8-fc8d-42ca-9a45-a1501689363a",
   "metadata": {},
   "outputs": [
    {
     "data": {
      "text/plain": [
       "13"
      ]
     },
     "execution_count": 45,
     "metadata": {},
     "output_type": "execute_result"
    }
   ],
   "source": [
    "a[1,3]"
   ]
  },
  {
   "cell_type": "code",
   "execution_count": 51,
   "id": "8524012b-3186-42ca-a851-81b1be7f7cf7",
   "metadata": {},
   "outputs": [
    {
     "data": {
      "text/plain": [
       "array([1., 1., 1.])"
      ]
     },
     "execution_count": 51,
     "metadata": {},
     "output_type": "execute_result"
    }
   ],
   "source": [
    "a = np.array([1,2,3], dtype=float)\n",
    "np.ones_like(a)"
   ]
  },
  {
   "cell_type": "code",
   "execution_count": 55,
   "id": "2d3bbc8a-1cca-4b75-84a8-8393acfdb46f",
   "metadata": {},
   "outputs": [
    {
     "data": {
      "text/plain": [
       "array([[1., 1., 1.],\n",
       "       [1., 1., 1.]])"
      ]
     },
     "execution_count": 55,
     "metadata": {},
     "output_type": "execute_result"
    }
   ],
   "source": [
    "np.ones( (2,3) )"
   ]
  },
  {
   "cell_type": "code",
   "execution_count": 57,
   "id": "eb664997-71db-41c1-8c5d-4705b88918d5",
   "metadata": {},
   "outputs": [
    {
     "data": {
      "text/plain": [
       "array([[1., 0., 0.],\n",
       "       [0., 1., 0.],\n",
       "       [0., 0., 1.]])"
      ]
     },
     "execution_count": 57,
     "metadata": {},
     "output_type": "execute_result"
    }
   ],
   "source": [
    "np.identity(3)"
   ]
  },
  {
   "cell_type": "code",
   "execution_count": null,
   "id": "f6a48e49-1003-4cb7-97c8-d16f6af1787f",
   "metadata": {},
   "outputs": [],
   "source": []
  }
 ],
 "metadata": {
  "kernelspec": {
   "display_name": "Python [conda env:base] *",
   "language": "python",
   "name": "conda-base-py"
  },
  "language_info": {
   "codemirror_mode": {
    "name": "ipython",
    "version": 3
   },
   "file_extension": ".py",
   "mimetype": "text/x-python",
   "name": "python",
   "nbconvert_exporter": "python",
   "pygments_lexer": "ipython3",
   "version": "3.12.7"
  }
 },
 "nbformat": 4,
 "nbformat_minor": 5
}
